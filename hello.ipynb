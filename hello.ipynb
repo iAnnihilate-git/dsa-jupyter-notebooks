{
 "cells": [
  {
   "cell_type": "markdown",
   "id": "bdd482a5",
   "metadata": {},
   "source": [
    "# Integers"
   ]
  },
  {
   "cell_type": "code",
   "execution_count": 11,
   "id": "578ac835",
   "metadata": {},
   "outputs": [
    {
     "data": {
      "text/plain": [
       "3"
      ]
     },
     "execution_count": 11,
     "metadata": {},
     "output_type": "execute_result"
    }
   ],
   "source": [
    "2+1"
   ]
  },
  {
   "cell_type": "code",
   "execution_count": 12,
   "id": "44805ecc",
   "metadata": {},
   "outputs": [
    {
     "data": {
      "text/plain": [
       "12"
      ]
     },
     "execution_count": 12,
     "metadata": {},
     "output_type": "execute_result"
    }
   ],
   "source": [
    "2*6"
   ]
  },
  {
   "cell_type": "code",
   "execution_count": 15,
   "id": "dc6aceef",
   "metadata": {},
   "outputs": [
    {
     "data": {
      "text/plain": [
       "2.0"
      ]
     },
     "execution_count": 15,
     "metadata": {},
     "output_type": "execute_result"
    }
   ],
   "source": [
    "8/4"
   ]
  },
  {
   "cell_type": "markdown",
   "id": "33bc2309",
   "metadata": {},
   "source": [
    "# Float"
   ]
  },
  {
   "cell_type": "code",
   "execution_count": 16,
   "id": "ec83767b",
   "metadata": {},
   "outputs": [
    {
     "data": {
      "text/plain": [
       "23.343"
      ]
     },
     "execution_count": 16,
     "metadata": {},
     "output_type": "execute_result"
    }
   ],
   "source": [
    "23.343"
   ]
  },
  {
   "cell_type": "markdown",
   "id": "6deec5a2",
   "metadata": {},
   "source": [
    "# String"
   ]
  },
  {
   "cell_type": "code",
   "execution_count": 17,
   "id": "2aa46871",
   "metadata": {},
   "outputs": [
    {
     "data": {
      "text/plain": [
       "'Ashish'"
      ]
     },
     "execution_count": 17,
     "metadata": {},
     "output_type": "execute_result"
    }
   ],
   "source": [
    "\"Ashish\""
   ]
  },
  {
   "cell_type": "code",
   "execution_count": 32,
   "id": "a3371d1f",
   "metadata": {},
   "outputs": [
    {
     "name": "stdout",
     "output_type": "stream",
     "text": [
      "!@#!@$@#^%#$^%#$\n"
     ]
    }
   ],
   "source": [
    "+ - * / ** % //"
   ]
  },
  {
   "cell_type": "code",
   "execution_count": 52,
   "id": "983357e0",
   "metadata": {},
   "outputs": [
    {
     "data": {
      "text/plain": [
       "12"
      ]
     },
     "execution_count": 52,
     "metadata": {},
     "output_type": "execute_result"
    }
   ],
   "source": [
    "( 2 + 1 ) * 4"
   ]
  },
  {
   "cell_type": "code",
   "execution_count": 60,
   "id": "aa47ea5b",
   "metadata": {},
   "outputs": [
    {
     "data": {
      "text/plain": [
       "12"
      ]
     },
     "execution_count": 60,
     "metadata": {},
     "output_type": "execute_result"
    }
   ],
   "source": [
    "ashish_kandwal_rocks = 12\n",
    "print(ashi)"
   ]
  },
  {
   "cell_type": "code",
   "execution_count": 2,
   "id": "c401441e",
   "metadata": {},
   "outputs": [
    {
     "name": "stdout",
     "output_type": "stream",
     "text": [
      "22\n"
     ]
    }
   ],
   "source": [
    "a = 12\n",
    "b = 11\n",
    "c = 1\n",
    "print(a+b-c)"
   ]
  },
  {
   "cell_type": "code",
   "execution_count": 3,
   "id": "b951f094",
   "metadata": {},
   "outputs": [
    {
     "name": "stdout",
     "output_type": "stream",
     "text": [
      "AshishCheenu\n",
      "CheenuAshish\n"
     ]
    }
   ],
   "source": [
    "a = 'Ashish'\n",
    "b = 'Cheenu'\n",
    "print(a + b)\n",
    "print(b + a)"
   ]
  },
  {
   "cell_type": "code",
   "execution_count": 15,
   "id": "55ec8276",
   "metadata": {},
   "outputs": [
    {
     "name": "stdout",
     "output_type": "stream",
     "text": [
      "This is # Ashish's code\n",
      "ashish\n"
     ]
    }
   ],
   "source": [
    "# I wrote this to explain the diff btw '' \"\"\n",
    "a = \"This is # Ashish's code\"\n",
    "b = 'ashish'\n",
    "print(a)\n",
    "print(b)"
   ]
  },
  {
   "cell_type": "code",
   "execution_count": null,
   "id": "dbd4ce29",
   "metadata": {},
   "outputs": [],
   "source": []
  }
 ],
 "metadata": {
  "kernelspec": {
   "display_name": "Python 3 (ipykernel)",
   "language": "python",
   "name": "python3"
  },
  "language_info": {
   "codemirror_mode": {
    "name": "ipython",
    "version": 3
   },
   "file_extension": ".py",
   "mimetype": "text/x-python",
   "name": "python",
   "nbconvert_exporter": "python",
   "pygments_lexer": "ipython3",
   "version": "3.9.12"
  }
 },
 "nbformat": 4,
 "nbformat_minor": 5
}
