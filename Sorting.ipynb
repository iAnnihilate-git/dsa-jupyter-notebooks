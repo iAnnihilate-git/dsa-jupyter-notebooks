{
 "cells": [
  {
   "cell_type": "markdown",
   "metadata": {},
   "source": [
    "# Bubble Sort"
   ]
  },
  {
   "cell_type": "code",
   "execution_count": 1,
   "metadata": {},
   "outputs": [
    {
     "name": "stdout",
     "output_type": "stream",
     "text": [
      "[2, 3, 5, 6, 7, 8]\n"
     ]
    },
    {
     "data": {
      "text/plain": [
       "'\\nWorst case complexity : O(n^2)\\nBest case complexity (Improved version) : O(n)\\nAverage case complexity (Basic version) : O(n^2)\\nWorst case space complexity : O(1) auxiliary\\n'"
      ]
     },
     "execution_count": 1,
     "metadata": {},
     "output_type": "execute_result"
    }
   ],
   "source": [
    "def bubble_sort(a):\n",
    "    \n",
    "    flag = False\n",
    "    for i in range(len(a)):\n",
    "        if flag:\n",
    "            break\n",
    "        flag = True\n",
    "        for j in range(len(a)-1-i):\n",
    "            if a[j] > a[j+1]:\n",
    "                flag = False\n",
    "                a[j], a[j+1] = a[j+1], a[j]\n",
    "\n",
    "nums = [5,3,8,6,7,2]\n",
    "bubble_sort(nums)\n",
    "print(nums)\n",
    "\n",
    "\"\"\"\n",
    "Worst case complexity : O(n^2)\n",
    "Best case complexity (Improved version) : O(n)\n",
    "Average case complexity (Basic version) : O(n^2)\n",
    "Worst case space complexity : O(1) auxiliary\n",
    "\"\"\""
   ]
  },
  {
   "cell_type": "code",
   "execution_count": null,
   "metadata": {},
   "outputs": [],
   "source": []
  },
  {
   "cell_type": "markdown",
   "metadata": {},
   "source": [
    "# Selection Sort"
   ]
  },
  {
   "cell_type": "code",
   "execution_count": 2,
   "metadata": {},
   "outputs": [
    {
     "name": "stdout",
     "output_type": "stream",
     "text": [
      "[2, 3, 5, 6, 7, 8]\n"
     ]
    },
    {
     "data": {
      "text/plain": [
       "'\\nWorst case complexity : O(n^2)\\nBest case complexity : O(n^2)\\nAverage case complexity : O(n^2)\\nWorst case space complexity: O(1) auxiliary\\n'"
      ]
     },
     "execution_count": 2,
     "metadata": {},
     "output_type": "execute_result"
    }
   ],
   "source": [
    "def selection_sort(a):\n",
    "    \n",
    "    for i in range(len(a)-1):\n",
    "        min_value = i\n",
    "        for j in range(i+1, len(a)):\n",
    "            if a[j] < a[min_value]:\n",
    "                min_value = j\n",
    "        if min_value != i:\n",
    "            a[i], a[min_value] = a[min_value], a[i]\n",
    "\n",
    "nums = [5,3,8,6,7,2]\n",
    "selection_sort(nums)\n",
    "print(nums)\n",
    "\n",
    "\n",
    "\"\"\"\n",
    "Worst case complexity : O(n^2)\n",
    "Best case complexity : O(n^2)\n",
    "Average case complexity : O(n^2)\n",
    "Worst case space complexity: O(1) auxiliary\n",
    "\"\"\""
   ]
  },
  {
   "cell_type": "code",
   "execution_count": null,
   "metadata": {},
   "outputs": [],
   "source": []
  },
  {
   "cell_type": "markdown",
   "metadata": {},
   "source": [
    "# Insertion Sort"
   ]
  },
  {
   "cell_type": "code",
   "execution_count": 16,
   "metadata": {
    "scrolled": true
   },
   "outputs": [
    {
     "name": "stdout",
     "output_type": "stream",
     "text": [
      "[2, 3, 5, 6, 7, 8]\n"
     ]
    },
    {
     "data": {
      "text/plain": [
       "'\\nWorst case complexity: Θ(n^2)\\nBest case complexity: Θ(n)\\nAverage case complexity: Θ(n^2)\\nWorst case space complexity: O(n^2) total, O(1) auxiliary\\n'"
      ]
     },
     "execution_count": 16,
     "metadata": {},
     "output_type": "execute_result"
    }
   ],
   "source": [
    "def insertion_sort(a):\n",
    "    \n",
    "    for i in range(1, len(a)):\n",
    "        value_to_sort = a[i]\n",
    "        while value_to_sort < a[i-1] and i > 0:\n",
    "            a[i], a[i-1] = a[i-1], a[i]\n",
    "            i -= 1\n",
    "\n",
    "nums = [5,3,8,6,7,2]\n",
    "insertion_sort(nums)\n",
    "print(nums)\n",
    "\n",
    "\"\"\"\n",
    "Worst case complexity: Θ(n^2)\n",
    "Best case complexity: Θ(n)\n",
    "Average case complexity: Θ(n^2)\n",
    "Worst case space complexity: O(n^2) total, O(1) auxiliary\n",
    "\"\"\""
   ]
  },
  {
   "cell_type": "code",
   "execution_count": null,
   "metadata": {},
   "outputs": [],
   "source": []
  },
  {
   "cell_type": "markdown",
   "metadata": {},
   "source": [
    "# Shell Sort"
   ]
  },
  {
   "cell_type": "code",
   "execution_count": 28,
   "metadata": {},
   "outputs": [
    {
     "name": "stdout",
     "output_type": "stream",
     "text": [
      "[54, 26, 93, 17, 77, 31, 44, 55, 20]\n"
     ]
    },
    {
     "data": {
      "text/plain": [
       "'\\nWorst case complexity depends on gap sequence. Best known: O(nlog^2n)\\nBest case complexity: O(n)\\nAverage case complexity depends on gap sequence\\nWorst case space complexity: O(n)\\n'"
      ]
     },
     "execution_count": 28,
     "metadata": {},
     "output_type": "execute_result"
    }
   ],
   "source": [
    "def shell_sort(a):\n",
    "    gap = len(a)//2\n",
    "    while gap > 0:\n",
    "        for i in range(gap,len(a)):\n",
    "            cur = a[i]\n",
    "            while cur < a[i-gap] and i >= gap:\n",
    "                a[i], a[i-gap] = a[i-gap], a[i]\n",
    "                i -= gap\n",
    "        gap = gap//2\n",
    "\n",
    "nums = [54,26,93,17,77,31,44,55,20]\n",
    "shell_sort(nums)\n",
    "print(nums)\n",
    "\n",
    "\"\"\"\n",
    "Worst case complexity depends on gap sequence. Best known: O(nlog^2n)\n",
    "Best case complexity: O(n)\n",
    "Average case complexity depends on gap sequence\n",
    "Worst case space complexity: O(n)\n",
    "\"\"\""
   ]
  },
  {
   "cell_type": "code",
   "execution_count": null,
   "metadata": {},
   "outputs": [],
   "source": []
  },
  {
   "cell_type": "markdown",
   "metadata": {},
   "source": [
    "# Merge Sort"
   ]
  },
  {
   "cell_type": "code",
   "execution_count": 16,
   "metadata": {},
   "outputs": [
    {
     "name": "stdout",
     "output_type": "stream",
     "text": [
      "[17, 20, 26, 31, 44, 54, 55, 77, 93]\n"
     ]
    },
    {
     "data": {
      "text/plain": [
       "'\\nWorst case complexity : Θ(nlogn)\\nBest case complexity : Θ(nlogn)\\nAverage case complexity : Θ(nlogn)\\nWorst case space complexity: Θ(n) auxiliary\\n'"
      ]
     },
     "execution_count": 16,
     "metadata": {},
     "output_type": "execute_result"
    }
   ],
   "source": [
    "def merge_sort(arr):\n",
    "    if len(arr) >1: \n",
    "        mid = len(arr)//2 # Finding the mid of the array \n",
    "        L = arr[:mid] # Dividing the array elements  \n",
    "        R = arr[mid:] # into 2 halves \n",
    "  \n",
    "        merge_sort(L) # Sorting the first half \n",
    "        merge_sort(R) # Sorting the second half \n",
    "  \n",
    "        i = j = k = 0\n",
    "          \n",
    "        # Copy data to temp arrays L[] and R[] \n",
    "        while i < len(L) and j < len(R): \n",
    "            if L[i] < R[j]: \n",
    "                arr[k] = L[i] \n",
    "                i+= 1\n",
    "                k+= 1\n",
    "            else: \n",
    "                arr[k] = R[j] \n",
    "                j+= 1\n",
    "                k+= 1\n",
    "          \n",
    "        # Checking if any element was left \n",
    "        while i < len(L): \n",
    "            arr[k] = L[i] \n",
    "            i+= 1\n",
    "            k+= 1\n",
    "          \n",
    "        while j < len(R): \n",
    "            arr[k] = R[j] \n",
    "            j+= 1\n",
    "            k+= 1\n",
    "    \n",
    "nums = [54,26,93,17,77,31,44,55,20]\n",
    "merge_sort(nums)\n",
    "print(nums)\n",
    "\n",
    "\"\"\"\n",
    "Worst case complexity : Θ(nlogn)\n",
    "Best case complexity : Θ(nlogn)\n",
    "Average case complexity : Θ(nlogn)\n",
    "Worst case space complexity: Θ(n) auxiliary\n",
    "\"\"\""
   ]
  },
  {
   "cell_type": "code",
   "execution_count": null,
   "metadata": {},
   "outputs": [],
   "source": []
  },
  {
   "cell_type": "markdown",
   "metadata": {},
   "source": [
    "# Quick Sort"
   ]
  },
  {
   "cell_type": "code",
   "execution_count": 33,
   "metadata": {},
   "outputs": [
    {
     "name": "stdout",
     "output_type": "stream",
     "text": [
      "[17, 20, 26, 31, 44, 54, 55, 77, 93]\n"
     ]
    },
    {
     "data": {
      "text/plain": [
       "'\\nWorst case Complexity: O(n^2)\\nBest case Complexity: O(nlogn)\\nAverage case Complexity: O(nlogn)\\nWorst case space Complexity: O(1)\\n'"
      ]
     },
     "execution_count": 33,
     "metadata": {},
     "output_type": "execute_result"
    }
   ],
   "source": [
    "def quick_sort(a):\n",
    "    if len(a) <= 1:\n",
    "        return a\n",
    "    else:\n",
    "        pivot = a.pop()\n",
    "    \n",
    "    greater = []\n",
    "    lower = []\n",
    "    \n",
    "    for i in a:\n",
    "        if i <= pivot:\n",
    "            lower.append(i)\n",
    "        else:\n",
    "            greater.append(i)\n",
    "    \n",
    "    return quick_sort(lower) + [pivot] + quick_sort(greater)\n",
    "\n",
    "nums = [54,26,93,17,77,31,44,55,20]\n",
    "print(quick_sort(nums))\n",
    "\n",
    "\"\"\"\n",
    "Worst case Complexity: O(n^2)\n",
    "Best case Complexity: O(nlogn)\n",
    "Average case Complexity: O(nlogn)\n",
    "Worst case space Complexity: O(1)\n",
    "\"\"\""
   ]
  },
  {
   "cell_type": "code",
   "execution_count": null,
   "metadata": {},
   "outputs": [],
   "source": []
  },
  {
   "cell_type": "markdown",
   "metadata": {},
   "source": [
    "# Counting Sort"
   ]
  },
  {
   "cell_type": "code",
   "execution_count": 5,
   "metadata": {},
   "outputs": [
    {
     "name": "stdout",
     "output_type": "stream",
     "text": [
      "[1, 1, 2, 2, 4, 5, 7]\n"
     ]
    },
    {
     "data": {
      "text/plain": [
       "'Time Complexity: O(n)'"
      ]
     },
     "execution_count": 5,
     "metadata": {},
     "output_type": "execute_result"
    }
   ],
   "source": [
    "def counting_sort(a):\n",
    "    output = [0 for i in range(len(a))]\n",
    "    count = [0 for i in range(0,10)]\n",
    "    \n",
    "    for i in a: #FOR COUNTING EACH ELEMENT IN INPUT ARRAY AND SORING COUNT IN COUNT_ARRAY\n",
    "        count[i] += 1\n",
    "    \n",
    "    for i in range(1,len(count)): #ADDING THE NEXT_ELEMENT WITH PREVIOUS_ELEMENT IN COUNT_ARRAY\n",
    "        count[i] = count[i] + count[i-1]\n",
    "        \n",
    "    for i in a: #BUILDING THE OUTPUT ARRAY\n",
    "        output[count[i]-1] = i\n",
    "        count[i] -= 1\n",
    "    \n",
    "    for i in range(len(a)): #COPY THE OUTPUT_ARRAY TO INPUT_ARRAY\n",
    "        a[i] = output[i]\n",
    "\n",
    "nums = [1, 4, 1, 2, 7, 5, 2]\n",
    "counting_sort(nums)\n",
    "print(nums)\n",
    "\n",
    "\"\"\"Time Complexity: O(n)\"\"\""
   ]
  },
  {
   "cell_type": "code",
   "execution_count": null,
   "metadata": {},
   "outputs": [],
   "source": []
  },
  {
   "cell_type": "markdown",
   "metadata": {},
   "source": [
    "# Bucket Sort"
   ]
  },
  {
   "cell_type": "code",
   "execution_count": 48,
   "metadata": {},
   "outputs": [
    {
     "name": "stdout",
     "output_type": "stream",
     "text": [
      "[1, 4, 1, 2, 7, 5, 2]\n"
     ]
    }
   ],
   "source": [
    "def bucket_sort(a):\n",
    "    pass\n",
    "\n",
    "nums = [1, 4, 1, 2, 7, 5, 2]\n",
    "bucket_sort(nums)\n",
    "print(nums)"
   ]
  },
  {
   "cell_type": "code",
   "execution_count": null,
   "metadata": {},
   "outputs": [],
   "source": []
  },
  {
   "cell_type": "markdown",
   "metadata": {},
   "source": [
    "# Radix Sort"
   ]
  },
  {
   "cell_type": "code",
   "execution_count": 2,
   "metadata": {},
   "outputs": [
    {
     "name": "stdout",
     "output_type": "stream",
     "text": [
      "[1, 4, 1, 2, 7, 5, 2]\n"
     ]
    }
   ],
   "source": [
    "def radix_sort(a):\n",
    "    pass\n",
    "\n",
    "nums = [1, 4, 1, 2, 7, 5, 2]\n",
    "radix_sort(nums)\n",
    "print(nums)"
   ]
  },
  {
   "cell_type": "code",
   "execution_count": null,
   "metadata": {},
   "outputs": [],
   "source": []
  },
  {
   "cell_type": "code",
   "execution_count": null,
   "metadata": {},
   "outputs": [],
   "source": []
  },
  {
   "cell_type": "code",
   "execution_count": null,
   "metadata": {},
   "outputs": [],
   "source": []
  },
  {
   "cell_type": "code",
   "execution_count": null,
   "metadata": {},
   "outputs": [],
   "source": []
  },
  {
   "cell_type": "markdown",
   "metadata": {},
   "source": [
    "# 2022"
   ]
  },
  {
   "cell_type": "markdown",
   "metadata": {},
   "source": [
    "# Bubble Sort"
   ]
  },
  {
   "cell_type": "code",
   "execution_count": 22,
   "metadata": {},
   "outputs": [
    {
     "name": "stdout",
     "output_type": "stream",
     "text": [
      "0\n",
      "[3, 5, 8, 6, 7, 2]\n",
      "0\n",
      "0\n",
      "[3, 5, 6, 8, 7, 2]\n",
      "0\n",
      "[3, 5, 6, 7, 8, 2]\n",
      "0\n",
      "[3, 5, 6, 7, 2, 8]\n",
      "1\n",
      "1\n",
      "1\n",
      "1\n",
      "[3, 5, 6, 2, 7, 8]\n",
      "2\n",
      "2\n",
      "2\n",
      "[3, 5, 2, 6, 7, 8]\n",
      "3\n",
      "3\n",
      "[3, 2, 5, 6, 7, 8]\n",
      "4\n",
      "[2, 3, 5, 6, 7, 8]\n"
     ]
    },
    {
     "data": {
      "text/plain": [
       "[2, 3, 5, 6, 7, 8]"
      ]
     },
     "execution_count": 22,
     "metadata": {},
     "output_type": "execute_result"
    }
   ],
   "source": [
    "def bubble(nums):\n",
    "    flag = False\n",
    "    for i in range(len(nums)-1):\n",
    "        if flag:\n",
    "            break\n",
    "        flag = True\n",
    "        for j in range(len(nums)-1-i):\n",
    "            print(i)\n",
    "            if nums[j] > nums[j+1]:\n",
    "                nums[j], nums[j+1] = nums[j+1], nums[j]\n",
    "                flag = False\n",
    "                print(nums)\n",
    "    return nums\n",
    "nums = [5,3,8,6,7,2]\n",
    "bubble(nums)"
   ]
  },
  {
   "cell_type": "code",
   "execution_count": null,
   "metadata": {},
   "outputs": [],
   "source": []
  },
  {
   "cell_type": "code",
   "execution_count": null,
   "metadata": {},
   "outputs": [],
   "source": []
  },
  {
   "cell_type": "code",
   "execution_count": null,
   "metadata": {},
   "outputs": [],
   "source": []
  },
  {
   "cell_type": "code",
   "execution_count": null,
   "metadata": {},
   "outputs": [],
   "source": []
  }
 ],
 "metadata": {
  "kernelspec": {
   "display_name": "Python 3 (ipykernel)",
   "language": "python",
   "name": "python3"
  },
  "language_info": {
   "codemirror_mode": {
    "name": "ipython",
    "version": 3
   },
   "file_extension": ".py",
   "mimetype": "text/x-python",
   "name": "python",
   "nbconvert_exporter": "python",
   "pygments_lexer": "ipython3",
   "version": "3.9.12"
  }
 },
 "nbformat": 4,
 "nbformat_minor": 4
}
