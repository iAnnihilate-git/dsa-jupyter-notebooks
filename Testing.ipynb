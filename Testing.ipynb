{
 "cells": [
  {
   "cell_type": "code",
   "execution_count": 3,
   "id": "e39126d9",
   "metadata": {},
   "outputs": [
    {
     "data": {
      "text/plain": [
       "[{'Emailaddress': {'Address': 'ashish'}},\n",
       " {'Emailaddress': {'Address': 'anurag'}},\n",
       " {'Emailaddress': {'Address': 'akash'}}]"
      ]
     },
     "execution_count": 3,
     "metadata": {},
     "output_type": "execute_result"
    }
   ],
   "source": [
    "addresses = ['ashish','anurag','akash']\n",
    "recepients = [{\"Emailaddress\": {\"Address\": address}} for address in addresses]\n",
    "recepients"
   ]
  },
  {
   "cell_type": "code",
   "execution_count": 22,
   "id": "5ceb162a",
   "metadata": {},
   "outputs": [
    {
     "name": "stdout",
     "output_type": "stream",
     "text": [
      "Hi Agent 47\n",
      "\n",
      "\n",
      "How are you 47?\n",
      "Good Luck 47!!\n"
     ]
    }
   ],
   "source": [
    "num = 47\n",
    "st = f\"Hi Agent {num}\\n\\n\\nHow are you {num}?\\nGood Luck {num}!!\"\n",
    "print(st)"
   ]
  },
  {
   "cell_type": "code",
   "execution_count": 29,
   "id": "b5c92968",
   "metadata": {},
   "outputs": [
    {
     "data": {
      "text/plain": [
       "['ashish', 'akash', 'anurag']"
      ]
     },
     "execution_count": 29,
     "metadata": {},
     "output_type": "execute_result"
    }
   ],
   "source": [
    "a = ['ashish','akash','anurag','ayush','me']\n",
    "b = a[:3]\n",
    "b"
   ]
  },
  {
   "cell_type": "code",
   "execution_count": 18,
   "id": "500584ce",
   "metadata": {},
   "outputs": [
    {
     "name": "stdout",
     "output_type": "stream",
     "text": [
      "Name      Age    Percent\n",
      "------  -----  ---------\n",
      "Mark       12         95\n",
      "Jay        11         88\n",
      "Jack       14         90\n"
     ]
    }
   ],
   "source": [
    "from tabulate import tabulate\n",
    "\n",
    "d = [ [\"Mark\", 12, 95],\n",
    "     [\"Jay\", 11, 88],\n",
    "     [\"Jack\", 14, 90]]\n",
    "\n",
    "print(tabulate(d, headers=[\"Name\", \"Age\", \"Percent\"]))"
   ]
  },
  {
   "cell_type": "code",
   "execution_count": 22,
   "id": "0572f7cb",
   "metadata": {},
   "outputs": [
    {
     "name": "stdout",
     "output_type": "stream",
     "text": [
      "Name    Friend\n",
      "------  --------\n",
      "ashish  akash\n",
      "anurag  ayush\n"
     ]
    }
   ],
   "source": [
    "a = ['ashish','akash','anurag','ayush']\n",
    "table = [[] for _ in range(2)]\n",
    "\n",
    "for i in range(len(a)):\n",
    "    if i < 2:\n",
    "        table[0].append(a[i])\n",
    "    else:\n",
    "        table[1].append(a[i])\n",
    "\n",
    "print(tabulate(table, headers=[\"Name\", \"Friend\"]))"
   ]
  },
  {
   "cell_type": "code",
   "execution_count": 56,
   "id": "4d34a7aa",
   "metadata": {},
   "outputs": [
    {
     "name": "stdout",
     "output_type": "stream",
     "text": [
      "[[], [], [], [], []]\n"
     ]
    },
    {
     "data": {
      "text/plain": [
       "[[1, 2], [2, 3], [3, 4], [4, 5], [5, 6]]"
      ]
     },
     "execution_count": 56,
     "metadata": {},
     "output_type": "execute_result"
    }
   ],
   "source": [
    "nums = [n for n in range(1,11)]\n",
    "table = [[] for _ in range(len(nums)//2)]\n",
    "print(table)\n",
    "j=0\n",
    "for i in range(0,len(nums),1):\n",
    "    if j < len(table):\n",
    "        table[j].append(nums[i])\n",
    "        table[j].append(nums[i+1])\n",
    "        j += 1\n",
    "table"
   ]
  },
  {
   "cell_type": "code",
   "execution_count": null,
   "id": "09c002d6",
   "metadata": {},
   "outputs": [],
   "source": []
  },
  {
   "cell_type": "code",
   "execution_count": 7,
   "id": "c52f73d8",
   "metadata": {},
   "outputs": [
    {
     "name": "stdout",
     "output_type": "stream",
     "text": [
      "2\n"
     ]
    },
    {
     "data": {
      "text/plain": [
       "4"
      ]
     },
     "execution_count": 7,
     "metadata": {},
     "output_type": "execute_result"
    }
   ],
   "source": [
    "timeseries = [1,4]\n",
    "duration = 2\n",
    "output = 0\n",
    "\n",
    "for t in range(len(timeseries)-1):\n",
    "    interval = timeseries[t+1] - timeseries[t]\n",
    "    if interval < duration:\n",
    "        output += interval\n",
    "    else:\n",
    "        output += duration\n",
    "    print(output)\n",
    "\n",
    "output+duration"
   ]
  },
  {
   "cell_type": "code",
   "execution_count": null,
   "id": "d0869bef",
   "metadata": {},
   "outputs": [],
   "source": []
  },
  {
   "cell_type": "code",
   "execution_count": 9,
   "id": "4106ac98",
   "metadata": {},
   "outputs": [
    {
     "name": "stdout",
     "output_type": "stream",
     "text": [
      "['Gold Medal', 'Silver Medal', 'Bronze Medal', '4']\n",
      "['Gold Medal', 'Silver Medal', 'Bronze Medal', '4', '5']\n"
     ]
    }
   ],
   "source": [
    "score = [6,3,4,2,7]\n",
    "# print(score)\n",
    "arr=sorted(score,reverse=True)\n",
    "ans=[]\n",
    "ans.append(\"Gold Medal\")\n",
    "ans.append(\"Silver Medal\")\n",
    "ans.append(\"Bronze Medal\")\n",
    "\n",
    "for i in range(3,len(arr)):\n",
    "    ans.append(str(i+1))\n",
    "    print(ans)\n",
    "\n",
    "for j in range(len(score)):\n",
    "    score[score.index(arr[j])]=ans[j]\n",
    "\n",
    "# print(score)"
   ]
  },
  {
   "cell_type": "code",
   "execution_count": 13,
   "id": "d7f578c6",
   "metadata": {},
   "outputs": [
    {
     "name": "stdout",
     "output_type": "stream",
     "text": [
      "{7: 'Gold Medal'}\n",
      "{7: 'Gold Medal', 6: 'Silver Medal'}\n",
      "{7: 'Gold Medal', 6: 'Silver Medal', 4: 'Bronze Medal'}\n",
      "{7: 'Gold Medal', 6: 'Silver Medal', 4: 'Bronze Medal', 3: '4'}\n",
      "{7: 'Gold Medal', 6: 'Silver Medal', 4: 'Bronze Medal', 3: '4', 2: '5'}\n"
     ]
    },
    {
     "data": {
      "text/plain": [
       "['Silver Medal', '4', 'Bronze Medal', '5', 'Gold Medal']"
      ]
     },
     "execution_count": 13,
     "metadata": {},
     "output_type": "execute_result"
    }
   ],
   "source": [
    "def findRelativeRanks(score):\n",
    "    cnt = 1\n",
    "    dic = {}\n",
    "    for i in reversed(sorted(score)):\n",
    "        if cnt == 1:\n",
    "            dic[i] = \"Gold Medal\"\n",
    "        elif cnt == 2:\n",
    "            dic[i] = \"Silver Medal\"\n",
    "        elif cnt == 3:\n",
    "            dic[i] = \"Bronze Medal\"\n",
    "        else:\n",
    "            dic[i] = str(cnt)\n",
    "        cnt += 1\n",
    "        print(dic)\n",
    "    return [dic[i] for i in score]\n",
    "\n",
    "score = [6,3,4,2,7]\n",
    "findRelativeRanks(score)"
   ]
  },
  {
   "cell_type": "code",
   "execution_count": null,
   "id": "3bd4b85a",
   "metadata": {},
   "outputs": [],
   "source": []
  },
  {
   "cell_type": "code",
   "execution_count": 29,
   "id": "6faae108",
   "metadata": {},
   "outputs": [
    {
     "name": "stdout",
     "output_type": "stream",
     "text": [
      "Counter({2: 3, 3: 2, 1: 1, 5: 1, 7: 1})\n",
      "2 3\n"
     ]
    },
    {
     "data": {
      "text/plain": [
       "[2, 2, 5, 2]"
      ]
     },
     "execution_count": 29,
     "metadata": {},
     "output_type": "execute_result"
    }
   ],
   "source": [
    "from collections import Counter\n",
    "\n",
    "nums = [1,3,2,2,5,2,3,7]\n",
    "\n",
    "count = Counter(nums)\n",
    "degree = max(count.values())\n",
    "    \n",
    "\n",
    "for i, n in enumerate(nums):\n",
    "    if i"
   ]
  },
  {
   "cell_type": "code",
   "execution_count": null,
   "id": "3bffd28a",
   "metadata": {},
   "outputs": [],
   "source": [
    "count = Counter(nums)\n",
    "degree = max(count.values())\n",
    "\n",
    "occur = {}\n",
    "length = 0\n",
    "min_length = math.inf\n",
    "\n",
    "for i, n in enumerate(nums):\n",
    "    occur.setdefault(n, i)\n",
    "print(occur)\n",
    "\n",
    "for i, n in enumerate(nums):\n",
    "    if count[n] == degree:\n",
    "        length = i - occur[n] + 1\n",
    "        min_length.append(length)\n",
    "return length\n",
    "                "
   ]
  },
  {
   "cell_type": "code",
   "execution_count": 45,
   "id": "0e94a6a3",
   "metadata": {},
   "outputs": [
    {
     "name": "stdout",
     "output_type": "stream",
     "text": [
      "Counter({1: 1})\n",
      "Counter({1: 1, 2: 1})\n",
      "Counter({2: 2, 1: 1})\n",
      "Counter({2: 2, 1: 1, 3: 1})\n",
      "Counter({1: 2, 2: 2, 3: 1})\n"
     ]
    },
    {
     "data": {
      "text/plain": [
       "Counter({1: 2, 2: 2, 3: 1})"
      ]
     },
     "execution_count": 45,
     "metadata": {},
     "output_type": "execute_result"
    }
   ],
   "source": [
    "nums = [1,2,2,3,1]\n",
    "count = Counter()\n",
    "\n",
    "for i, n in enumerate(nums):\n",
    "    count[n] += 1\n",
    "    print(count)\n",
    "    \n",
    "count"
   ]
  },
  {
   "cell_type": "code",
   "execution_count": null,
   "id": "96aa165e",
   "metadata": {},
   "outputs": [],
   "source": []
  },
  {
   "cell_type": "code",
   "execution_count": 3,
   "id": "09b6dbef",
   "metadata": {},
   "outputs": [
    {
     "name": "stdout",
     "output_type": "stream",
     "text": [
      "0 ashish\n",
      "1 ashish\n",
      "2 ashish\n",
      "3 ashish\n",
      "4 ashish\n",
      "6 ashish\n",
      "7 ashish\n",
      "8 ashish\n",
      "9 ashish\n",
      "10 ashish\n"
     ]
    }
   ],
   "source": [
    "name = 'ashish'\n",
    "for i in range(11):\n",
    "    if i == 5:\n",
    "        if name == 'ashish':\n",
    "            continue\n",
    "        else:\n",
    "            name = 'ayush'\n",
    "    print(i, name)"
   ]
  },
  {
   "cell_type": "code",
   "execution_count": null,
   "id": "6a8fe2f1",
   "metadata": {},
   "outputs": [],
   "source": []
  },
  {
   "cell_type": "code",
   "execution_count": 2,
   "id": "cba90fc0",
   "metadata": {},
   "outputs": [
    {
     "ename": "TypeError",
     "evalue": "'range' object does not support item assignment",
     "output_type": "error",
     "traceback": [
      "\u001b[1;31m---------------------------------------------------------------------------\u001b[0m",
      "\u001b[1;31mTypeError\u001b[0m                                 Traceback (most recent call last)",
      "Input \u001b[1;32mIn [2]\u001b[0m, in \u001b[0;36m<cell line: 18>\u001b[1;34m()\u001b[0m\n\u001b[0;32m     10\u001b[0m run1 \u001b[38;5;241m=\u001b[39m \u001b[38;5;124m\"\"\"\u001b[39m\n\u001b[0;32m     11\u001b[0m \u001b[38;5;124msorted(l)\u001b[39m\n\u001b[0;32m     12\u001b[0m \u001b[38;5;124m\"\"\"\u001b[39m\n\u001b[0;32m     14\u001b[0m run2 \u001b[38;5;241m=\u001b[39m \u001b[38;5;124m\"\"\"\u001b[39m\n\u001b[0;32m     15\u001b[0m \u001b[38;5;124msorted(l, reverse=True)\u001b[39m\n\u001b[0;32m     16\u001b[0m \u001b[38;5;124m\"\"\"\u001b[39m\n\u001b[1;32m---> 18\u001b[0m n1 \u001b[38;5;241m=\u001b[39m \u001b[43mtimeit\u001b[49m\u001b[38;5;241;43m.\u001b[39;49m\u001b[43mtimeit\u001b[49m\u001b[43m(\u001b[49m\u001b[43mrun1\u001b[49m\u001b[43m,\u001b[49m\u001b[43m \u001b[49m\u001b[43msetup\u001b[49m\u001b[43m,\u001b[49m\u001b[43m \u001b[49m\u001b[43mnumber\u001b[49m\u001b[38;5;241;43m=\u001b[39;49m\u001b[38;5;241;43m10000\u001b[39;49m\u001b[43m)\u001b[49m\n\u001b[0;32m     19\u001b[0m n2 \u001b[38;5;241m=\u001b[39m timeit\u001b[38;5;241m.\u001b[39mtimeit(run2, setup, number\u001b[38;5;241m=\u001b[39m\u001b[38;5;241m10000\u001b[39m)\n\u001b[0;32m     21\u001b[0m \u001b[38;5;28mprint\u001b[39m(n1, n2)\n",
      "File \u001b[1;32m~\\Anaconda3\\lib\\timeit.py:233\u001b[0m, in \u001b[0;36mtimeit\u001b[1;34m(stmt, setup, timer, number, globals)\u001b[0m\n\u001b[0;32m    230\u001b[0m \u001b[38;5;28;01mdef\u001b[39;00m \u001b[38;5;21mtimeit\u001b[39m(stmt\u001b[38;5;241m=\u001b[39m\u001b[38;5;124m\"\u001b[39m\u001b[38;5;124mpass\u001b[39m\u001b[38;5;124m\"\u001b[39m, setup\u001b[38;5;241m=\u001b[39m\u001b[38;5;124m\"\u001b[39m\u001b[38;5;124mpass\u001b[39m\u001b[38;5;124m\"\u001b[39m, timer\u001b[38;5;241m=\u001b[39mdefault_timer,\n\u001b[0;32m    231\u001b[0m            number\u001b[38;5;241m=\u001b[39mdefault_number, \u001b[38;5;28mglobals\u001b[39m\u001b[38;5;241m=\u001b[39m\u001b[38;5;28;01mNone\u001b[39;00m):\n\u001b[0;32m    232\u001b[0m     \u001b[38;5;124;03m\"\"\"Convenience function to create Timer object and call timeit method.\"\"\"\u001b[39;00m\n\u001b[1;32m--> 233\u001b[0m     \u001b[38;5;28;01mreturn\u001b[39;00m \u001b[43mTimer\u001b[49m\u001b[43m(\u001b[49m\u001b[43mstmt\u001b[49m\u001b[43m,\u001b[49m\u001b[43m \u001b[49m\u001b[43msetup\u001b[49m\u001b[43m,\u001b[49m\u001b[43m \u001b[49m\u001b[43mtimer\u001b[49m\u001b[43m,\u001b[49m\u001b[43m \u001b[49m\u001b[38;5;28;43mglobals\u001b[39;49m\u001b[43m)\u001b[49m\u001b[38;5;241;43m.\u001b[39;49m\u001b[43mtimeit\u001b[49m\u001b[43m(\u001b[49m\u001b[43mnumber\u001b[49m\u001b[43m)\u001b[49m\n",
      "File \u001b[1;32m~\\Anaconda3\\lib\\timeit.py:177\u001b[0m, in \u001b[0;36mTimer.timeit\u001b[1;34m(self, number)\u001b[0m\n\u001b[0;32m    175\u001b[0m gc\u001b[38;5;241m.\u001b[39mdisable()\n\u001b[0;32m    176\u001b[0m \u001b[38;5;28;01mtry\u001b[39;00m:\n\u001b[1;32m--> 177\u001b[0m     timing \u001b[38;5;241m=\u001b[39m \u001b[38;5;28;43mself\u001b[39;49m\u001b[38;5;241;43m.\u001b[39;49m\u001b[43minner\u001b[49m\u001b[43m(\u001b[49m\u001b[43mit\u001b[49m\u001b[43m,\u001b[49m\u001b[43m \u001b[49m\u001b[38;5;28;43mself\u001b[39;49m\u001b[38;5;241;43m.\u001b[39;49m\u001b[43mtimer\u001b[49m\u001b[43m)\u001b[49m\n\u001b[0;32m    178\u001b[0m \u001b[38;5;28;01mfinally\u001b[39;00m:\n\u001b[0;32m    179\u001b[0m     \u001b[38;5;28;01mif\u001b[39;00m gcold:\n",
      "File \u001b[1;32m<timeit-src>:7\u001b[0m, in \u001b[0;36minner\u001b[1;34m(_it, _timer)\u001b[0m\n",
      "File \u001b[1;32m~\\Anaconda3\\lib\\random.py:362\u001b[0m, in \u001b[0;36mRandom.shuffle\u001b[1;34m(self, x, random)\u001b[0m\n\u001b[0;32m    359\u001b[0m     \u001b[38;5;28;01mfor\u001b[39;00m i \u001b[38;5;129;01min\u001b[39;00m \u001b[38;5;28mreversed\u001b[39m(\u001b[38;5;28mrange\u001b[39m(\u001b[38;5;241m1\u001b[39m, \u001b[38;5;28mlen\u001b[39m(x))):\n\u001b[0;32m    360\u001b[0m         \u001b[38;5;66;03m# pick an element in x[:i+1] with which to exchange x[i]\u001b[39;00m\n\u001b[0;32m    361\u001b[0m         j \u001b[38;5;241m=\u001b[39m randbelow(i \u001b[38;5;241m+\u001b[39m \u001b[38;5;241m1\u001b[39m)\n\u001b[1;32m--> 362\u001b[0m         x[i], x[j] \u001b[38;5;241m=\u001b[39m x[j], x[i]\n\u001b[0;32m    363\u001b[0m \u001b[38;5;28;01melse\u001b[39;00m:\n\u001b[0;32m    364\u001b[0m     _warn(\u001b[38;5;124m'\u001b[39m\u001b[38;5;124mThe *random* parameter to shuffle() has been deprecated\u001b[39m\u001b[38;5;130;01m\\n\u001b[39;00m\u001b[38;5;124m'\u001b[39m\n\u001b[0;32m    365\u001b[0m           \u001b[38;5;124m'\u001b[39m\u001b[38;5;124msince Python 3.9 and will be removed in a subsequent \u001b[39m\u001b[38;5;124m'\u001b[39m\n\u001b[0;32m    366\u001b[0m           \u001b[38;5;124m'\u001b[39m\u001b[38;5;124mversion.\u001b[39m\u001b[38;5;124m'\u001b[39m,\n\u001b[0;32m    367\u001b[0m           \u001b[38;5;167;01mDeprecationWarning\u001b[39;00m, \u001b[38;5;241m2\u001b[39m)\n",
      "\u001b[1;31mTypeError\u001b[0m: 'range' object does not support item assignment"
     ]
    }
   ],
   "source": [
    "import timeit\n",
    "\n",
    "setup = \"\"\"\n",
    "import random\n",
    "random.seed(1)\n",
    "l = range(10000)\n",
    "random.shuffle(l)\n",
    "\"\"\"\n",
    "\n",
    "run1 = \"\"\"\n",
    "sorted(l)\n",
    "\"\"\"\n",
    "\n",
    "run2 = \"\"\"\n",
    "sorted(l, reverse=True)\n",
    "\"\"\"\n",
    "\n",
    "n1 = timeit.timeit(run1, setup, number=10000)\n",
    "n2 = timeit.timeit(run2, setup, number=10000)\n",
    "\n",
    "print(n1, n2)\n",
    "print(n2/n1 - 1)*100,\"%\""
   ]
  },
  {
   "cell_type": "code",
   "execution_count": 4,
   "id": "76f470be",
   "metadata": {},
   "outputs": [
    {
     "ename": "TypeError",
     "evalue": "'range' object does not support item assignment",
     "output_type": "error",
     "traceback": [
      "\u001b[1;31m---------------------------------------------------------------------------\u001b[0m",
      "\u001b[1;31mTypeError\u001b[0m                                 Traceback (most recent call last)",
      "Input \u001b[1;32mIn [4]\u001b[0m, in \u001b[0;36m<cell line: 5>\u001b[1;34m()\u001b[0m\n\u001b[0;32m      1\u001b[0m \u001b[38;5;28;01mimport\u001b[39;00m \u001b[38;5;21;01mrandom\u001b[39;00m\n\u001b[0;32m      3\u001b[0m x \u001b[38;5;241m=\u001b[39m \u001b[38;5;28mrange\u001b[39m(\u001b[38;5;241m1000\u001b[39m)\n\u001b[1;32m----> 5\u001b[0m \u001b[43mrandom\u001b[49m\u001b[38;5;241;43m.\u001b[39;49m\u001b[43mshuffle\u001b[49m\u001b[43m(\u001b[49m\u001b[43mx\u001b[49m\u001b[43m)\u001b[49m\n\u001b[0;32m      7\u001b[0m get_ipython()\u001b[38;5;241m.\u001b[39mrun_line_magic(\u001b[38;5;124m'\u001b[39m\u001b[38;5;124mtimeit\u001b[39m\u001b[38;5;124m'\u001b[39m, \u001b[38;5;124m'\u001b[39m\u001b[38;5;124msorted(x)\u001b[39m\u001b[38;5;124m'\u001b[39m)\n\u001b[0;32m      8\u001b[0m \u001b[38;5;66;03m# 1000 loops, best of 3: 341 us per loop\u001b[39;00m\n",
      "File \u001b[1;32m~\\Anaconda3\\lib\\random.py:362\u001b[0m, in \u001b[0;36mRandom.shuffle\u001b[1;34m(self, x, random)\u001b[0m\n\u001b[0;32m    359\u001b[0m     \u001b[38;5;28;01mfor\u001b[39;00m i \u001b[38;5;129;01min\u001b[39;00m \u001b[38;5;28mreversed\u001b[39m(\u001b[38;5;28mrange\u001b[39m(\u001b[38;5;241m1\u001b[39m, \u001b[38;5;28mlen\u001b[39m(x))):\n\u001b[0;32m    360\u001b[0m         \u001b[38;5;66;03m# pick an element in x[:i+1] with which to exchange x[i]\u001b[39;00m\n\u001b[0;32m    361\u001b[0m         j \u001b[38;5;241m=\u001b[39m randbelow(i \u001b[38;5;241m+\u001b[39m \u001b[38;5;241m1\u001b[39m)\n\u001b[1;32m--> 362\u001b[0m         x[i], x[j] \u001b[38;5;241m=\u001b[39m x[j], x[i]\n\u001b[0;32m    363\u001b[0m \u001b[38;5;28;01melse\u001b[39;00m:\n\u001b[0;32m    364\u001b[0m     _warn(\u001b[38;5;124m'\u001b[39m\u001b[38;5;124mThe *random* parameter to shuffle() has been deprecated\u001b[39m\u001b[38;5;130;01m\\n\u001b[39;00m\u001b[38;5;124m'\u001b[39m\n\u001b[0;32m    365\u001b[0m           \u001b[38;5;124m'\u001b[39m\u001b[38;5;124msince Python 3.9 and will be removed in a subsequent \u001b[39m\u001b[38;5;124m'\u001b[39m\n\u001b[0;32m    366\u001b[0m           \u001b[38;5;124m'\u001b[39m\u001b[38;5;124mversion.\u001b[39m\u001b[38;5;124m'\u001b[39m,\n\u001b[0;32m    367\u001b[0m           \u001b[38;5;167;01mDeprecationWarning\u001b[39;00m, \u001b[38;5;241m2\u001b[39m)\n",
      "\u001b[1;31mTypeError\u001b[0m: 'range' object does not support item assignment"
     ]
    }
   ],
   "source": [
    "import random\n",
    "\n",
    "x = range(1000)\n",
    "\n",
    "random.shuffle(x)\n",
    "\n",
    "%timeit sorted(x)\n",
    "# 1000 loops, best of 3: 341 us per loop\n",
    "\n",
    "x = range(1000)\n",
    "\n",
    "random.shuffle(x)\n",
    "\n",
    "%timeit sorted(x, reverse = True)\n",
    "# 1000 loops, best of 3: 344 us per loop\n"
   ]
  },
  {
   "cell_type": "code",
   "execution_count": null,
   "id": "89adb947",
   "metadata": {},
   "outputs": [],
   "source": []
  },
  {
   "cell_type": "code",
   "execution_count": 5,
   "id": "f35397d9",
   "metadata": {},
   "outputs": [
    {
     "name": "stdout",
     "output_type": "stream",
     "text": [
      "Build ID: 40, Definition ID: 2, Status: failed\n",
      "Build ID: 36, Definition ID: 1, Status: succeeded\n",
      "Build ID: 32, Definition ID: 2, Status: succeeded\n",
      "Build ID: 31, Definition ID: 1, Status: succeeded\n",
      "Build ID: 30, Definition ID: 2, Status: succeeded\n",
      "Build ID: 29, Definition ID: 1, Status: succeeded\n",
      "Build ID: 28, Definition ID: 2, Status: succeeded\n",
      "Build ID: 18, Definition ID: 4, Status: succeeded\n",
      "Build ID: 15, Definition ID: 4, Status: succeeded\n"
     ]
    }
   ],
   "source": [
    "from azure.devops.connection import Connection\n",
    "from msrest.authentication import BasicAuthentication\n",
    "from datetime import datetime\n",
    "\n",
    "# Azure DevOps credentials\n",
    "personal_access_token = ''\n",
    "organization_url = 'https://dev.azure.com/noobDevOps'\n",
    "project_name = 'TheMcguffin'\n",
    "\n",
    "# Create a connection to Azure DevOps\n",
    "credentials = BasicAuthentication(\"\", personal_access_token)\n",
    "connection = Connection(base_url=organization_url, creds=credentials)\n",
    "\n",
    "# Get the build client\n",
    "build_client = connection.clients.get_build_client()\n",
    "\n",
    "# Get the current date\n",
    "current_date = datetime.now().date()\n",
    "\n",
    "# Define the query options\n",
    "# query_options = {\n",
    "#     \"minTime\": current_date,\n",
    "#     \"maxTime\": current_date,\n",
    "#     \"status_filter\": \"completed\"  # You can modify the filter as per your requirement\n",
    "# }\n",
    "\n",
    "# Get the builds for the current date\n",
    "builds = build_client.get_builds(project_name)\n",
    "\n",
    "# Process the list of builds\n",
    "for build in builds:\n",
    "    print(f\"Build ID: {build.id}, Definition ID: {build.definition.id}, Status: {build.result}\")\n"
   ]
  },
  {
   "cell_type": "code",
   "execution_count": 11,
   "id": "b3820853",
   "metadata": {},
   "outputs": [
    {
     "name": "stdout",
     "output_type": "stream",
     "text": [
      "'[0] TheMcguffin'\n"
     ]
    },
    {
     "ename": "TypeError",
     "evalue": "argument of type 'TeamProjectReference' is not iterable",
     "output_type": "error",
     "traceback": [
      "\u001b[1;31m------------------------------------------------------------\u001b[0m",
      "\u001b[1;31mTypeError\u001b[0m                  Traceback (most recent call last)",
      "Input \u001b[1;32mIn [11]\u001b[0m, in \u001b[0;36m<cell line: 20>\u001b[1;34m()\u001b[0m\n\u001b[0;32m     22\u001b[0m     pprint\u001b[38;5;241m.\u001b[39mpprint(\u001b[38;5;124m\"\u001b[39m\u001b[38;5;124m[\u001b[39m\u001b[38;5;124m\"\u001b[39m \u001b[38;5;241m+\u001b[39m \u001b[38;5;28mstr\u001b[39m(index) \u001b[38;5;241m+\u001b[39m \u001b[38;5;124m\"\u001b[39m\u001b[38;5;124m] \u001b[39m\u001b[38;5;124m\"\u001b[39m \u001b[38;5;241m+\u001b[39m project\u001b[38;5;241m.\u001b[39mname)\n\u001b[0;32m     23\u001b[0m     index \u001b[38;5;241m+\u001b[39m\u001b[38;5;241m=\u001b[39m \u001b[38;5;241m1\u001b[39m\n\u001b[1;32m---> 24\u001b[0m \u001b[38;5;28;01mif\u001b[39;00m get_projects_response \u001b[38;5;129;01mand\u001b[39;00m \u001b[38;5;28misinstance\u001b[39m(get_projects_response, \u001b[38;5;28mlist\u001b[39m) \u001b[38;5;129;01mand\u001b[39;00m \u001b[38;5;124;43m'\u001b[39;49m\u001b[38;5;124;43mcontinuationToken\u001b[39;49m\u001b[38;5;124;43m'\u001b[39;49m\u001b[43m \u001b[49m\u001b[38;5;129;43;01min\u001b[39;49;00m\u001b[43m \u001b[49m\u001b[43mget_projects_response\u001b[49m\u001b[43m[\u001b[49m\u001b[38;5;241;43m-\u001b[39;49m\u001b[38;5;241;43m1\u001b[39;49m\u001b[43m]\u001b[49m:\n\u001b[0;32m     25\u001b[0m     \u001b[38;5;66;03m# Get the next page of projects\u001b[39;00m\n\u001b[0;32m     26\u001b[0m     continuation_token \u001b[38;5;241m=\u001b[39m get_projects_response[\u001b[38;5;241m-\u001b[39m\u001b[38;5;241m1\u001b[39m][\u001b[38;5;124m'\u001b[39m\u001b[38;5;124mcontinuationToken\u001b[39m\u001b[38;5;124m'\u001b[39m]\n\u001b[0;32m     27\u001b[0m     get_projects_response \u001b[38;5;241m=\u001b[39m core_client\u001b[38;5;241m.\u001b[39mget_projects(continuation_token\u001b[38;5;241m=\u001b[39mcontinuation_token)\n",
      "\u001b[1;31mTypeError\u001b[0m: argument of type 'TeamProjectReference' is not iterable"
     ]
    }
   ],
   "source": [
    "from azure.devops.connection import Connection\n",
    "from msrest.authentication import BasicAuthentication\n",
    "import pprint\n",
    "\n",
    "# Fill in with your personal access token and org URL\n",
    "personal_access_token = ''\n",
    "organization_url = 'https://dev.azure.com/noobDevOps'\n",
    "project_name = 'TheMcguffin'\n",
    "\n",
    "# Create a connection to the org\n",
    "credentials = BasicAuthentication('', personal_access_token)\n",
    "connection = Connection(base_url=organization_url, creds=credentials)\n",
    "\n",
    "# Get a client (the \"core\" client provides access to projects, teams, etc)\n",
    "core_client = connection.clients.get_core_client()\n",
    "\n",
    "# Get the first page of projects\n",
    "get_projects_response = core_client.get_projects()\n",
    "index = 0\n",
    "while get_projects_response:\n",
    "    for project in get_projects_response:\n",
    "        pprint.pprint(\"[\" + str(index) + \"] \" + project.name)\n",
    "        index += 1\n",
    "    if get_projects_response and isinstance(get_projects_response, list) and 'continuationToken' in get_projects_response[-1]:\n",
    "        # Get the next page of projects\n",
    "        continuation_token = get_projects_response[-1]['continuationToken']\n",
    "        get_projects_response = core_client.get_projects(continuation_token=continuation_token)\n",
    "    else:\n",
    "        # All projects have been retrieved\n",
    "        get_projects_response = None"
   ]
  },
  {
   "cell_type": "code",
   "execution_count": null,
   "id": "ec3bd670",
   "metadata": {},
   "outputs": [],
   "source": []
  },
  {
   "cell_type": "code",
   "execution_count": 5,
   "id": "72cfd359",
   "metadata": {},
   "outputs": [
    {
     "data": {
      "text/plain": [
       "\"An error occurred: 'builtin_function_or_method' object is not subscriptable\""
      ]
     },
     "execution_count": 5,
     "metadata": {},
     "output_type": "execute_result"
    }
   ],
   "source": [
    "import matplotlib\n",
    "# matplotlib.use('Agg')\n",
    "from flask import Flask, render_template\n",
    "from azure.devops.connection import Connection\n",
    "from msrest.authentication import BasicAuthentication\n",
    "import matplotlib.pyplot as plt\n",
    "\n",
    "# Azure DevOps credentials\n",
    "personal_access_token = ''\n",
    "organization_url = 'https://dev.azure.com/noobDevOps'\n",
    "project_name = 'TheMcguffin'\n",
    "\n",
    "# Route for the widget\n",
    "def build_pipeline_graph():\n",
    "    try:\n",
    "        # Connect to Azure DevOps\n",
    "        credentials = BasicAuthentication('', personal_access_token)\n",
    "        connection = Connection(base_url=organization_url, creds=credentials)\n",
    "\n",
    "        # Get the build client\n",
    "        build_client = connection.clients.get_build_client()\n",
    "\n",
    "        # Get build definitions\n",
    "        definitions = build_client.\n",
    "\n",
    "        # Initialize counters\n",
    "        success_count = 0\n",
    "        failure_count = 0\n",
    "\n",
    "        # Count success and failure builds\n",
    "        for definition in definitions:\n",
    "            builds = build_client.get_builds(project=project_name, definitions=[definition.id])\n",
    "            for build in builds:\n",
    "                if build.result == 'succeeded':\n",
    "                    success_count += 1\n",
    "                elif build.result == 'failed':\n",
    "                    failure_count += 1\n",
    "        \n",
    "        views = []\n",
    "        # Prepare the data for graphs\n",
    "        labels = ['Success', 'Failure']\n",
    "        values = [success_count, failure_count]\n",
    "\n",
    "        # Generate the graph\n",
    "        plt.bar(labels, values)\n",
    "        plt.xlabel('Build Result')\n",
    "        plt.ylabel('Count')\n",
    "        plt.title('Build Pipeline Success/Failure Graph')\n",
    "\n",
    "        graph_image_path = 'static/graph.png'\n",
    "#         plt.savefig(graph_image_path)\n",
    "        views.append[graph_image_path]\n",
    "\n",
    "        # Generate the pie chart\n",
    "        plt.pie(values, labels=labels, autopct='%1.1f%%')\n",
    "        plt.title('Build Pipeline Success/Failure Graph')\n",
    "        \n",
    "        # Save the pie chart as an image\n",
    "        pie_image_path = 'static/piechart.png'\n",
    "#         plt.savefig(pie_image_path)\n",
    "        views.append[pie_image_path]\n",
    "        print(views)\n",
    "        return views\n",
    "\n",
    "        # Render the HTML template and pass the graph image path\n",
    "        return render_template('build_pipeline_graph.html', graph_image_path=graph_image_path)\n",
    "    except Exception as e:\n",
    "        return f\"An error occurred: {str(e)}\"\n",
    "    \n",
    "build_pipeline_graph()"
   ]
  },
  {
   "cell_type": "code",
   "execution_count": 8,
   "id": "82ba6b36",
   "metadata": {},
   "outputs": [
    {
     "name": "stdout",
     "output_type": "stream",
     "text": [
      "2023-05-17\n",
      "2023-05-18\n",
      "2023-05-16\n",
      "14 days, 0:00:00\n"
     ]
    }
   ],
   "source": [
    "import datetime\n",
    "\n",
    "today = datetime.datetime.now().date()\n",
    "tomorrow = today + datetime.timedelta(days=1)\n",
    "yesterday = today - datetime.timedelta(days=1)\n",
    "\n",
    "print(today)     # Current date\n",
    "print(tomorrow)  # Date one day in the future\n",
    "print(yesterday) # Date one day in the past\n",
    "print(datetime.timedelta(days=1))\n"
   ]
  },
  {
   "cell_type": "code",
   "execution_count": null,
   "id": "aca3f0e3",
   "metadata": {},
   "outputs": [],
   "source": []
  },
  {
   "cell_type": "code",
   "execution_count": 3,
   "id": "f70fa9a1",
   "metadata": {},
   "outputs": [
    {
     "name": "stdout",
     "output_type": "stream",
     "text": [
      "<class 'azure.devops.v7_0.build.build_client.BuildClient'>\n",
      "<azure.devops.v7_0.build.build_client.BuildClient object at 0x00000154ABD9EF10>\n",
      "\n",
      "\n",
      "\n",
      "<class 'list'>\n",
      "[<azure.devops.v7_0.build.models.BuildDefinitionReference object at 0x00000154ABF4B7C0>, <azure.devops.v7_0.build.models.BuildDefinitionReference object at 0x00000154ABF4BA60>, <azure.devops.v7_0.build.models.BuildDefinitionReference object at 0x00000154ABF4BD00>] \n",
      "\n",
      "\n",
      "['First-Pipeline-yaml', 'Second-Pipeline-yaml', 'First-Pipeline-yaml (1)'] \n",
      "\n",
      "\n",
      "failed\n",
      "[<azure.devops.v7_0.build.models.Build object at 0x00000154ABFC5F10>, <azure.devops.v7_0.build.models.Build object at 0x00000154AC2FE7C0>, <azure.devops.v7_0.build.models.Build object at 0x00000154AC2FED90>, <azure.devops.v7_0.build.models.Build object at 0x00000154AC9983A0>, <azure.devops.v7_0.build.models.Build object at 0x00000154AC998970>, <azure.devops.v7_0.build.models.Build object at 0x00000154AC998F40>, <azure.devops.v7_0.build.models.Build object at 0x00000154AC998FD0>, <azure.devops.v7_0.build.models.Build object at 0x00000154AC9995E0>, <azure.devops.v7_0.build.models.Build object at 0x00000154AC999BB0>] \n",
      "\n",
      "failed\n",
      "[<azure.devops.v7_0.build.models.Build object at 0x00000154AC99F760>, <azure.devops.v7_0.build.models.Build object at 0x00000154AC99FD30>, <azure.devops.v7_0.build.models.Build object at 0x00000154AC9AF340>, <azure.devops.v7_0.build.models.Build object at 0x00000154AC9AF910>] \n",
      "\n",
      "succeeded\n",
      "[<azure.devops.v7_0.build.models.Build object at 0x00000154AC2FED30>, <azure.devops.v7_0.build.models.Build object at 0x00000154AC2FEF10>] \n",
      "\n"
     ]
    }
   ],
   "source": [
    "from flask import Flask, render_template\n",
    "from azure.devops.connection import Connection\n",
    "from msrest.authentication import BasicAuthentication\n",
    "import datetime\n",
    "\n",
    "def generate_graph():\n",
    "    # Azure DevOps credentials\n",
    "    personal_access_token = ''\n",
    "    organization_url = 'https://dev.azure.com/noobDevOps'\n",
    "    project_name = 'TheMcguffin'\n",
    "\n",
    "    # Connect to Azure DevOps\n",
    "    credentials = BasicAuthentication('', personal_access_token)\n",
    "    connection = Connection(base_url=organization_url, creds=credentials)\n",
    "\n",
    "    # Get the build client\n",
    "    build_client = connection.clients.get_build_client()\n",
    "    print(type(build_client))\n",
    "    print(build_client)\n",
    "    print(\"\\n\\n\")\n",
    "\n",
    "    # Get build definitions\n",
    "    definitions = build_client.get_definitions(project=project_name)\n",
    "    print(type(definitions))\n",
    "    print(definitions,\"\\n\\n\")\n",
    "    pipe = [definition.name for definition in definitions]\n",
    "    print(pipe,\"\\n\\n\")\n",
    "    \n",
    "    success_count = 0\n",
    "    failure_count = 0\n",
    "    for definition in definitions:\n",
    "        builds = build_client.get_builds(project_name, [definition.id])\n",
    "        print(builds[0].result)\n",
    "        print(builds,\"\\n\")\n",
    "        \n",
    "        \n",
    "        \n",
    "    \n",
    "#     success_count = 0\n",
    "#     failure_count = 0\n",
    "#     for definition in definitions:\n",
    "#         builds = build_client.get_builds(project_name, [definition.id])\n",
    "#         for build in builds:\n",
    "#             if build.result == 'succeeded':\n",
    "#                 success_count += 1\n",
    "#             elif build.result == 'failed':\n",
    "#                 failure_count += 1\n",
    "\n",
    "    \n",
    "#     success_count = 0\n",
    "#     failure_count = 0\n",
    "\n",
    "#     for definition in definitions:\n",
    "#         builds = build_client.get_builds(project=project_name, definitions=[definition.id])\n",
    "#         for build in builds:\n",
    "#             if build.result == 'succeeded':\n",
    "#                 success_count += 1\n",
    "#             elif build.result == 'failed':\n",
    "#                 failure_count += 1\n",
    "\n",
    "\n",
    "generate_graph()\n",
    "\n"
   ]
  },
  {
   "cell_type": "code",
   "execution_count": 30,
   "id": "69c9f250",
   "metadata": {},
   "outputs": [
    {
     "name": "stdout",
     "output_type": "stream",
     "text": [
      "<class 'str'>\n"
     ]
    }
   ],
   "source": [
    "from datetime import datetime\n",
    "\n",
    "# dates in string format\n",
    "str_d1 = str(datetime.now().today())\n",
    "\n",
    "print(type(str_d1))\n",
    "# str_d1 = '2021/10/20'\n",
    "str_d2 = '2022-2-20'\n",
    "\n",
    "d1 = datetime.strptime(str_d1, \"%Y-%m-%d\")\n",
    "d2 = datetime.strptime(str_d2, \"%Y-%m-%d\")\n",
    "print(d1,d2)\n",
    "\n",
    "# difference between dates in timedelta\n",
    "delta = d1 - d2\n",
    "print(type(delta))\n",
    "print(f'Difference is {delta.days} days')"
   ]
  },
  {
   "cell_type": "code",
   "execution_count": 23,
   "id": "c140e3ca",
   "metadata": {},
   "outputs": [
    {
     "name": "stdout",
     "output_type": "stream",
     "text": [
      "Difference in days: 0\n"
     ]
    }
   ],
   "source": [
    "from datetime import datetime\n",
    "\n",
    "# Define the current date and another date\n",
    "current_date = datetime.now()\n",
    "other_date = datetime(2023, 6, 28)  # Replace with the desired date\n",
    "\n",
    "# Calculate the difference between the two dates\n",
    "date_difference = current_date - other_date\n",
    "\n",
    "# Extract the number of days from the date difference\n",
    "difference_in_days = date_difference.days\n",
    "\n",
    "print(\"Difference in days:\", difference_in_days)"
   ]
  },
  {
   "cell_type": "code",
   "execution_count": 31,
   "id": "9a467f1a",
   "metadata": {},
   "outputs": [
    {
     "name": "stdout",
     "output_type": "stream",
     "text": [
      "343\n"
     ]
    },
    {
     "ename": "NameError",
     "evalue": "name 'timedelta' is not defined",
     "output_type": "error",
     "traceback": [
      "\u001b[1;31m------------------------------------------------------------\u001b[0m",
      "\u001b[1;31mNameError\u001b[0m                  Traceback (most recent call last)",
      "Input \u001b[1;32mIn [31]\u001b[0m, in \u001b[0;36m<cell line: 10>\u001b[1;34m()\u001b[0m\n\u001b[0;32m      7\u001b[0m delta \u001b[38;5;241m=\u001b[39m newdate2 \u001b[38;5;241m-\u001b[39m newdate1\n\u001b[0;32m      8\u001b[0m \u001b[38;5;28mprint\u001b[39m(delta\u001b[38;5;241m.\u001b[39mdays)\n\u001b[1;32m---> 10\u001b[0m past \u001b[38;5;241m=\u001b[39m datetime\u001b[38;5;241m.\u001b[39mnow() \u001b[38;5;241m-\u001b[39m \u001b[43mtimedelta\u001b[49m(days\u001b[38;5;241m=\u001b[39m\u001b[38;5;241m1\u001b[39m)\n\u001b[0;32m     11\u001b[0m present \u001b[38;5;241m=\u001b[39m datetime\u001b[38;5;241m.\u001b[39mnow()\n\u001b[0;32m     12\u001b[0m past \u001b[38;5;241m<\u001b[39m present\n",
      "\u001b[1;31mNameError\u001b[0m: name 'timedelta' is not defined"
     ]
    }
   ],
   "source": [
    "from datetime import datetime\n",
    "date1 = \"2022-07-19\"\n",
    "date2 = \"2023-06-27\"\n",
    "\n",
    "newdate1 = datetime.strptime(date1, \"%Y-%m-%d\")\n",
    "newdate2 = datetime.strptime(date2, \"%Y-%m-%d\")\n",
    "delta = newdate2 - newdate1\n",
    "print(delta.days)\n",
    "\n",
    "past = datetime.now() - timedelta(days=1)\n",
    "present = datetime.now()\n",
    "past < present"
   ]
  },
  {
   "cell_type": "code",
   "execution_count": 8,
   "id": "77de6f3a",
   "metadata": {},
   "outputs": [
    {
     "name": "stdout",
     "output_type": "stream",
     "text": [
      "0 75\n",
      "1 25\n"
     ]
    },
    {
     "data": {
      "image/png": "[encoded data removed]",
      "text/plain": [
       "<Figure size 432x288 with 1 Axes>"
      ]
     },
     "metadata": {
      "needs_background": "light"
     },
     "output_type": "display_data"
    }
   ],
   "source": [
    "import matplotlib.pyplot as plt\n",
    "\n",
    "# Data\n",
    "categories = ['Success', 'Failure']\n",
    "counts = [75, 25]\n",
    "\n",
    "# Plotting the bar graph\n",
    "plt.bar(categories, counts, color=['green', 'red'])\n",
    "\n",
    "# Adding labels and title\n",
    "plt.xlabel('Outcome')\n",
    "plt.ylabel('Count')\n",
    "plt.title('Success vs. Failure')\n",
    "\n",
    "# Adding labels to the bars\n",
    "for i, count in enumerate(counts):\n",
    "    print(i, count)\n",
    "    plt.text(i, count, str(count), ha='center', va='bottom')\n",
    "\n",
    "# Displaying the graph\n",
    "plt.show()\n"
   ]
  },
  {
   "cell_type": "code",
   "execution_count": 2,
   "id": "16591b69",
   "metadata": {},
   "outputs": [
    {
     "name": "stdout",
     "output_type": "stream",
     "text": [
      "2020-04-29 15:30:00\n"
     ]
    }
   ],
   "source": [
    "#combining date and time \n",
    "from datetime import * \n",
    "d = date(2020, 4, 29) \n",
    "t = time(15, 30) \n",
    "dt = datetime.combine(d, t) \n",
    "print(dt)"
   ]
  },
  {
   "cell_type": "code",
   "execution_count": 3,
   "id": "c7a9ba09",
   "metadata": {},
   "outputs": [
    {
     "name": "stdout",
     "output_type": "stream",
     "text": [
      "00:49:15\n"
     ]
    }
   ],
   "source": [
    "import datetime\n",
    "\n",
    "duration = datetime.timedelta(0, 2955)\n",
    "time = datetime.datetime.min + duration\n",
    "\n",
    "formatted_time = time.time()\n",
    "print(formatted_time)"
   ]
  },
  {
   "cell_type": "code",
   "execution_count": 6,
   "id": "065155dd",
   "metadata": {},
   "outputs": [
    {
     "name": "stdout",
     "output_type": "stream",
     "text": [
      "2929.25\n"
     ]
    }
   ],
   "source": [
    "import datetime\n",
    "\n",
    "duration = datetime.timedelta(2, 2955)\n",
    "minutes = duration.total_seconds() / 60\n",
    "\n",
    "print(minutes)"
   ]
  },
  {
   "cell_type": "code",
   "execution_count": 5,
   "id": "1c3fb89d",
   "metadata": {},
   "outputs": [
    {
     "name": "stdout",
     "output_type": "stream",
     "text": [
      "12\n"
     ]
    }
   ],
   "source": [
    "import datetime\n",
    "\n",
    "# Assuming you have a datetime.date object\n",
    "my_date = datetime.date(2023, 12, 6)\n",
    "\n",
    "# Extract the month from the date\n",
    "month = my_date.month\n",
    "\n",
    "# Print the month\n",
    "print(month)"
   ]
  },
  {
   "cell_type": "code",
   "execution_count": 4,
   "id": "37ad81fb",
   "metadata": {},
   "outputs": [
    {
     "ename": "ValueError",
     "evalue": "Invalid isoformat string: '2023-08-03T10:22:01.8106146+00:00'",
     "output_type": "error",
     "traceback": [
      "\u001b[1;31m------------------------------------------------------------\u001b[0m",
      "\u001b[1;31mValueError\u001b[0m                 Traceback (most recent call last)",
      "Input \u001b[1;32mIn [4]\u001b[0m, in \u001b[0;36m<cell line: 5>\u001b[1;34m()\u001b[0m\n\u001b[0;32m      3\u001b[0m \u001b[38;5;66;03m# Parse the given datetime string into a datetime object\u001b[39;00m\n\u001b[0;32m      4\u001b[0m given_datetime_str \u001b[38;5;241m=\u001b[39m \u001b[38;5;124m'\u001b[39m\u001b[38;5;124m2023-08-03T10:22:01.8106146Z\u001b[39m\u001b[38;5;124m'\u001b[39m\n\u001b[1;32m----> 5\u001b[0m given_datetime \u001b[38;5;241m=\u001b[39m \u001b[43mdatetime\u001b[49m\u001b[38;5;241;43m.\u001b[39;49m\u001b[43mfromisoformat\u001b[49m\u001b[43m(\u001b[49m\u001b[43mgiven_datetime_str\u001b[49m\u001b[38;5;241;43m.\u001b[39;49m\u001b[43mreplace\u001b[49m\u001b[43m(\u001b[49m\u001b[38;5;124;43m'\u001b[39;49m\u001b[38;5;124;43mZ\u001b[39;49m\u001b[38;5;124;43m'\u001b[39;49m\u001b[43m,\u001b[49m\u001b[43m \u001b[49m\u001b[38;5;124;43m'\u001b[39;49m\u001b[38;5;124;43m+00:00\u001b[39;49m\u001b[38;5;124;43m'\u001b[39;49m\u001b[43m)\u001b[49m\u001b[43m)\u001b[49m\n\u001b[0;32m      7\u001b[0m \u001b[38;5;66;03m# Get the current datetime\u001b[39;00m\n\u001b[0;32m      8\u001b[0m current_datetime \u001b[38;5;241m=\u001b[39m datetime\u001b[38;5;241m.\u001b[39mnow()\n",
      "\u001b[1;31mValueError\u001b[0m: Invalid isoformat string: '2023-08-03T10:22:01.8106146+00:00'"
     ]
    }
   ],
   "source": [
    "from datetime import datetime\n",
    "\n",
    "# Parse the given datetime string into a datetime object\n",
    "given_datetime_str = '2023-08-03T10:22:01.8106146Z'\n",
    "given_datetime = datetime.fromisoformat(given_datetime_str.replace('Z', '+00:00'))\n",
    "\n",
    "# Get the current datetime\n",
    "current_datetime = datetime.utcnow()\n",
    "\n",
    "# Calculate the time difference\n",
    "time_difference = current_datetime - given_datetime\n",
    "\n",
    "# Print the time difference\n",
    "print(time_difference)"
   ]
  },
  {
   "cell_type": "code",
   "execution_count": 1,
   "id": "51b71152",
   "metadata": {},
   "outputs": [
    {
     "ename": "ValueError",
     "evalue": "time data '2023-08-03T10:22:01.8106146Z' does not match format '%Y-%m-%dT%H:%M:%S.%fZ'",
     "output_type": "error",
     "traceback": [
      "\u001b[1;31m------------------------------------------------------------\u001b[0m",
      "\u001b[1;31mValueError\u001b[0m                 Traceback (most recent call last)",
      "Input \u001b[1;32mIn [1]\u001b[0m, in \u001b[0;36m<cell line: 5>\u001b[1;34m()\u001b[0m\n\u001b[0;32m      3\u001b[0m \u001b[38;5;66;03m# Parse the given datetime string into a datetime object\u001b[39;00m\n\u001b[0;32m      4\u001b[0m given_datetime_str \u001b[38;5;241m=\u001b[39m \u001b[38;5;124m'\u001b[39m\u001b[38;5;124m2023-08-03T10:22:01.8106146Z\u001b[39m\u001b[38;5;124m'\u001b[39m\n\u001b[1;32m----> 5\u001b[0m given_datetime \u001b[38;5;241m=\u001b[39m \u001b[43mdatetime\u001b[49m\u001b[38;5;241;43m.\u001b[39;49m\u001b[43mstrptime\u001b[49m\u001b[43m(\u001b[49m\u001b[43mgiven_datetime_str\u001b[49m\u001b[43m,\u001b[49m\u001b[43m \u001b[49m\u001b[38;5;124;43m'\u001b[39;49m\u001b[38;5;124;43m%\u001b[39;49m\u001b[38;5;124;43mY-\u001b[39;49m\u001b[38;5;124;43m%\u001b[39;49m\u001b[38;5;124;43mm-\u001b[39;49m\u001b[38;5;132;43;01m%d\u001b[39;49;00m\u001b[38;5;124;43mT\u001b[39;49m\u001b[38;5;124;43m%\u001b[39;49m\u001b[38;5;124;43mH:\u001b[39;49m\u001b[38;5;124;43m%\u001b[39;49m\u001b[38;5;124;43mM:\u001b[39;49m\u001b[38;5;124;43m%\u001b[39;49m\u001b[38;5;124;43mS.\u001b[39;49m\u001b[38;5;132;43;01m%f\u001b[39;49;00m\u001b[38;5;124;43mZ\u001b[39;49m\u001b[38;5;124;43m'\u001b[39;49m\u001b[43m)\u001b[49m\n\u001b[0;32m      7\u001b[0m \u001b[38;5;66;03m# Get the current datetime\u001b[39;00m\n\u001b[0;32m      8\u001b[0m current_datetime \u001b[38;5;241m=\u001b[39m datetime\u001b[38;5;241m.\u001b[39mutcnow()\n",
      "File \u001b[1;32m~\\Anaconda3\\lib\\_strptime.py:568\u001b[0m, in \u001b[0;36m_strptime_datetime\u001b[1;34m(cls, data_string, format)\u001b[0m\n\u001b[0;32m    565\u001b[0m \u001b[38;5;28;01mdef\u001b[39;00m \u001b[38;5;21m_strptime_datetime\u001b[39m(\u001b[38;5;28mcls\u001b[39m, data_string, \u001b[38;5;28mformat\u001b[39m\u001b[38;5;241m=\u001b[39m\u001b[38;5;124m\"\u001b[39m\u001b[38;5;132;01m%a\u001b[39;00m\u001b[38;5;124m \u001b[39m\u001b[38;5;124m%\u001b[39m\u001b[38;5;124mb \u001b[39m\u001b[38;5;132;01m%d\u001b[39;00m\u001b[38;5;124m \u001b[39m\u001b[38;5;124m%\u001b[39m\u001b[38;5;124mH:\u001b[39m\u001b[38;5;124m%\u001b[39m\u001b[38;5;124mM:\u001b[39m\u001b[38;5;124m%\u001b[39m\u001b[38;5;124mS \u001b[39m\u001b[38;5;124m%\u001b[39m\u001b[38;5;124mY\u001b[39m\u001b[38;5;124m\"\u001b[39m):\n\u001b[0;32m    566\u001b[0m     \u001b[38;5;124;03m\"\"\"Return a class cls instance based on the input string and the\u001b[39;00m\n\u001b[0;32m    567\u001b[0m \u001b[38;5;124;03m    format string.\"\"\"\u001b[39;00m\n\u001b[1;32m--> 568\u001b[0m     tt, fraction, gmtoff_fraction \u001b[38;5;241m=\u001b[39m \u001b[43m_strptime\u001b[49m\u001b[43m(\u001b[49m\u001b[43mdata_string\u001b[49m\u001b[43m,\u001b[49m\u001b[43m \u001b[49m\u001b[38;5;28;43mformat\u001b[39;49m\u001b[43m)\u001b[49m\n\u001b[0;32m    569\u001b[0m     tzname, gmtoff \u001b[38;5;241m=\u001b[39m tt[\u001b[38;5;241m-\u001b[39m\u001b[38;5;241m2\u001b[39m:]\n\u001b[0;32m    570\u001b[0m     args \u001b[38;5;241m=\u001b[39m tt[:\u001b[38;5;241m6\u001b[39m] \u001b[38;5;241m+\u001b[39m (fraction,)\n",
      "File \u001b[1;32m~\\Anaconda3\\lib\\_strptime.py:349\u001b[0m, in \u001b[0;36m_strptime\u001b[1;34m(data_string, format)\u001b[0m\n\u001b[0;32m    347\u001b[0m found \u001b[38;5;241m=\u001b[39m format_regex\u001b[38;5;241m.\u001b[39mmatch(data_string)\n\u001b[0;32m    348\u001b[0m \u001b[38;5;28;01mif\u001b[39;00m \u001b[38;5;129;01mnot\u001b[39;00m found:\n\u001b[1;32m--> 349\u001b[0m     \u001b[38;5;28;01mraise\u001b[39;00m \u001b[38;5;167;01mValueError\u001b[39;00m(\u001b[38;5;124m\"\u001b[39m\u001b[38;5;124mtime data \u001b[39m\u001b[38;5;132;01m%r\u001b[39;00m\u001b[38;5;124m does not match format \u001b[39m\u001b[38;5;132;01m%r\u001b[39;00m\u001b[38;5;124m\"\u001b[39m \u001b[38;5;241m%\u001b[39m\n\u001b[0;32m    350\u001b[0m                      (data_string, \u001b[38;5;28mformat\u001b[39m))\n\u001b[0;32m    351\u001b[0m \u001b[38;5;28;01mif\u001b[39;00m \u001b[38;5;28mlen\u001b[39m(data_string) \u001b[38;5;241m!=\u001b[39m found\u001b[38;5;241m.\u001b[39mend():\n\u001b[0;32m    352\u001b[0m     \u001b[38;5;28;01mraise\u001b[39;00m \u001b[38;5;167;01mValueError\u001b[39;00m(\u001b[38;5;124m\"\u001b[39m\u001b[38;5;124munconverted data remains: \u001b[39m\u001b[38;5;132;01m%s\u001b[39;00m\u001b[38;5;124m\"\u001b[39m \u001b[38;5;241m%\u001b[39m\n\u001b[0;32m    353\u001b[0m                       data_string[found\u001b[38;5;241m.\u001b[39mend():])\n",
      "\u001b[1;31mValueError\u001b[0m: time data '2023-08-03T10:22:01.8106146Z' does not match format '%Y-%m-%dT%H:%M:%S.%fZ'"
     ]
    }
   ],
   "source": [
    "from datetime import datetime\n",
    "\n",
    "# Parse the given datetime string into a datetime object\n",
    "given_datetime_str = '2023-08-03T10:22:01.8106146Z'\n",
    "given_datetime = datetime.strptime(given_datetime_str, '%Y-%m-%dT%H:%M:%S.%fZ')\n",
    "\n",
    "# Get the current datetime\n",
    "current_datetime = datetime.utcnow()\n",
    "\n",
    "# Calculate the time difference\n",
    "time_difference = current_datetime - given_datetime\n",
    "\n",
    "# Print the time difference\n",
    "print(time_difference)\n"
   ]
  },
  {
   "cell_type": "code",
   "execution_count": 3,
   "id": "f9ca6957",
   "metadata": {},
   "outputs": [
    {
     "name": "stdout",
     "output_type": "stream",
     "text": [
      "1\n"
     ]
    }
   ],
   "source": [
    "from datetime import datetime\n",
    "\n",
    "# Parse the given datetime string into a datetime object\n",
    "given_datetime_str = '2023-08-03T10:22:01.8106146Z'\n",
    "microseconds_part = given_datetime_str[-7:-1]\n",
    "given_datetime_str = given_datetime_str[:-7] + 'Z'\n",
    "given_datetime = datetime.strptime(given_datetime_str, '%Y-%m-%dT%H:%M:%S.%fZ')\n",
    "given_datetime = given_datetime.replace(microsecond=int(microseconds_part))\n",
    "\n",
    "# Get the current datetime\n",
    "current_datetime = datetime.utcnow()\n",
    "\n",
    "# Calculate the time difference\n",
    "time_difference = current_datetime - given_datetime\n",
    "\n",
    "# Print the time difference\n",
    "print(time_difference.days)\n"
   ]
  },
  {
   "cell_type": "code",
   "execution_count": 13,
   "id": "855139b6",
   "metadata": {},
   "outputs": [
    {
     "name": "stdout",
     "output_type": "stream",
     "text": [
      "2023-08-03\n",
      "10:22:01.8106146\n",
      "2023-08-03 10:22:01.8106146\n"
     ]
    }
   ],
   "source": [
    "split_date = '2023-08-03T10:22:01.8106146Z'.split('Z')[0].split('T')\n",
    "run_date = split_date[0]\n",
    "run_time = split_date[1]\n",
    "run_date_time = ' '.join(split_date)\n",
    "print(run_date)\n",
    "print(run_time)\n",
    "print(run_date_time)"
   ]
  },
  {
   "cell_type": "code",
   "execution_count": 14,
   "id": "fa4b53ce",
   "metadata": {},
   "outputs": [
    {
     "name": "stdout",
     "output_type": "stream",
     "text": [
      "Hi my name is\n",
      "ashish\n"
     ]
    }
   ],
   "source": [
    "print(\"\"\"Hi my name is\n",
    "ashish\"\"\")"
   ]
  },
  {
   "cell_type": "code",
   "execution_count": 4,
   "id": "a3428821",
   "metadata": {},
   "outputs": [
    {
     "name": "stdout",
     "output_type": "stream",
     "text": [
      "Extracted URL: https://dev.azure.com/RSAClaimsAnalytics/Claims%20DevOps/_git/rsa-claims-sqlcods/pullrequest/9464]\n"
     ]
    }
   ],
   "source": [
    "import re\n",
    "\n",
    "# Your input string\n",
    "input_string = \"confluence link :- [CTP-R2.2-CLSYT1R1B-FA-2308 - Claims DevOps - Confluence (rsa-ins.com)|https://confluence2.uk.rsa-ins.com/pages/resumedraft.action?draftId=230033129&draftShareId=f6c4996a-2a09-4c42-b2ff-ea444edaa913&] pull request created from r2.2-main branch\"\n",
    "\n",
    "# Define a regular expression pattern to match an HTTPS URL\n",
    "url_pattern = r'https://[^\\s]+'\n",
    "\n",
    "# Use re.search to find the first match in the input string\n",
    "match = re.search(url_pattern, input_string)\n",
    "\n",
    "# Check if a match was found\n",
    "if match:\n",
    "    # Extract and print the matched URL\n",
    "    url = match.group()\n",
    "    print(\"Extracted URL:\", url)\n",
    "else:\n",
    "    print(\"No URL found in the input string.\")"
   ]
  },
  {
   "cell_type": "code",
   "execution_count": null,
   "id": "7620f222",
   "metadata": {},
   "outputs": [],
   "source": [
    "a = ([1,2,3],1,2)\n",
    "a[0][2] = 2\n",
    "a"
   ]
  },
  {
   "cell_type": "code",
   "execution_count": 2,
   "id": "b0b5e6b1",
   "metadata": {},
   "outputs": [
    {
     "name": "stdout",
     "output_type": "stream",
     "text": [
      "<azure.identity._credentials.default.DefaultAzureCredential object at 0x00000263A25E9250>\n",
      "<azure.monitor.query._logs_query_client.LogsQueryClient object at 0x00000263A25D00D0>\n",
      "<azure.identity._credentials.default.DefaultAzureCredential object at 0x00000263A25C59D0>\n",
      "<azure.monitor.query._metrics_query_client.MetricsQueryClient object at 0x00000263A3D8FD30>\n"
     ]
    }
   ],
   "source": [
    "# Copyright (c) Microsoft Corporation. All rights reserved.\n",
    "# Licensed under the MIT License.\n",
    "\"\"\"\n",
    "FILE: sample_authentication.py\n",
    "DESCRIPTION:\n",
    "    This sample demonstrates how to authenticate to the Azure Monitor service using both\n",
    "    LogQueryClient and MetricsQueryClient.\n",
    "USAGE:\n",
    "    python sample_authentication.py\n",
    "\n",
    "This example uses DefaultAzureCredential, which requests a token from Azure Active Directory.\n",
    "For more information on DefaultAzureCredential, see https://learn.microsoft.com/python/api/overview/azure/identity-readme?view=azure-python#defaultazurecredential.\n",
    "\"\"\"\n",
    "\n",
    "\n",
    "def create_logs_query_client():\n",
    "    # [START create_logs_query_client]\n",
    "    from azure.identity import DefaultAzureCredential\n",
    "    from azure.monitor.query import LogsQueryClient\n",
    "\n",
    "    credential = DefaultAzureCredential()\n",
    "    client = LogsQueryClient(credential)\n",
    "    print(credential)\n",
    "    print(client)\n",
    "    # [END create_logs_query_client]\n",
    "\n",
    "\n",
    "def create_metrics_query_client():\n",
    "    # [START create_metrics_query_client]\n",
    "    from azure.identity import DefaultAzureCredential\n",
    "    from azure.monitor.query import MetricsQueryClient\n",
    "\n",
    "    credential = DefaultAzureCredential()\n",
    "    client = MetricsQueryClient(credential)\n",
    "    print(credential)\n",
    "    print(client)\n",
    "    # [END create_metrics_query_client]\n",
    "\n",
    "\n",
    "create_logs_query_client()\n",
    "create_metrics_query_client()"
   ]
  },
  {
   "cell_type": "code",
   "execution_count": 1,
   "id": "a0835d7d",
   "metadata": {},
   "outputs": [
    {
     "ename": "KeyError",
     "evalue": "'LOGS_WORKSPACE_ID'",
     "output_type": "error",
     "traceback": [
      "\u001b[1;31m---------------------------------------------------------------------------\u001b[0m",
      "\u001b[1;31mKeyError\u001b[0m                                  Traceback (most recent call last)",
      "Input \u001b[1;32mIn [1]\u001b[0m, in \u001b[0;36m<cell line: 32>\u001b[1;34m()\u001b[0m\n\u001b[0;32m     28\u001b[0m credential \u001b[38;5;241m=\u001b[39m DefaultAzureCredential()\n\u001b[0;32m     29\u001b[0m client \u001b[38;5;241m=\u001b[39m LogsQueryClient(credential)\n\u001b[0;32m     31\u001b[0m requests \u001b[38;5;241m=\u001b[39m [\n\u001b[0;32m     32\u001b[0m     LogsBatchQuery(\n\u001b[0;32m     33\u001b[0m         query\u001b[38;5;241m=\u001b[39m\u001b[38;5;124m\"\u001b[39m\u001b[38;5;124mAzureActivity | summarize count()\u001b[39m\u001b[38;5;124m\"\u001b[39m,\n\u001b[0;32m     34\u001b[0m         timespan\u001b[38;5;241m=\u001b[39mtimedelta(hours\u001b[38;5;241m=\u001b[39m\u001b[38;5;241m1\u001b[39m),\n\u001b[1;32m---> 35\u001b[0m         workspace_id\u001b[38;5;241m=\u001b[39m\u001b[43mos\u001b[49m\u001b[38;5;241;43m.\u001b[39;49m\u001b[43menviron\u001b[49m\u001b[43m[\u001b[49m\u001b[38;5;124;43m\"\u001b[39;49m\u001b[38;5;124;43mLOGS_WORKSPACE_ID\u001b[39;49m\u001b[38;5;124;43m\"\u001b[39;49m\u001b[43m]\u001b[49m,\n\u001b[0;32m     36\u001b[0m     ),\n\u001b[0;32m     37\u001b[0m     LogsBatchQuery(query\u001b[38;5;241m=\u001b[39m\u001b[38;5;124m\"\u001b[39m\u001b[38;5;124mbad query\u001b[39m\u001b[38;5;124m\"\u001b[39m, timespan\u001b[38;5;241m=\u001b[39mtimedelta(days\u001b[38;5;241m=\u001b[39m\u001b[38;5;241m1\u001b[39m), workspace_id\u001b[38;5;241m=\u001b[39mos\u001b[38;5;241m.\u001b[39menviron[\u001b[38;5;124m\"\u001b[39m\u001b[38;5;124mLOGS_WORKSPACE_ID\u001b[39m\u001b[38;5;124m\"\u001b[39m]),\n\u001b[0;32m     38\u001b[0m     LogsBatchQuery(\n\u001b[0;32m     39\u001b[0m         query\u001b[38;5;241m=\u001b[39m\u001b[38;5;124m\"\"\"\u001b[39m\u001b[38;5;124mlet Weight = 92233720368547758;\u001b[39m\n\u001b[0;32m     40\u001b[0m \u001b[38;5;124m        range x from 1 to 3 step 1\u001b[39m\n\u001b[0;32m     41\u001b[0m \u001b[38;5;124m        | summarize percentilesw(x, Weight * 100, 50)\u001b[39m\u001b[38;5;124m\"\"\"\u001b[39m,\n\u001b[0;32m     42\u001b[0m         workspace_id\u001b[38;5;241m=\u001b[39mos\u001b[38;5;241m.\u001b[39menviron[\u001b[38;5;124m\"\u001b[39m\u001b[38;5;124mLOGS_WORKSPACE_ID\u001b[39m\u001b[38;5;124m\"\u001b[39m],\n\u001b[0;32m     43\u001b[0m         timespan\u001b[38;5;241m=\u001b[39m(datetime(\u001b[38;5;241m2021\u001b[39m, \u001b[38;5;241m6\u001b[39m, \u001b[38;5;241m2\u001b[39m, tzinfo\u001b[38;5;241m=\u001b[39mtimezone\u001b[38;5;241m.\u001b[39mutc), datetime(\u001b[38;5;241m2021\u001b[39m, \u001b[38;5;241m6\u001b[39m, \u001b[38;5;241m5\u001b[39m, tzinfo\u001b[38;5;241m=\u001b[39mtimezone\u001b[38;5;241m.\u001b[39mutc)),  \u001b[38;5;66;03m# (start, end)\u001b[39;00m\n\u001b[0;32m     44\u001b[0m         include_statistics\u001b[38;5;241m=\u001b[39m\u001b[38;5;28;01mTrue\u001b[39;00m,\n\u001b[0;32m     45\u001b[0m     ),\n\u001b[0;32m     46\u001b[0m ]\n\u001b[0;32m     48\u001b[0m \u001b[38;5;28;01mtry\u001b[39;00m:\n\u001b[0;32m     49\u001b[0m     results \u001b[38;5;241m=\u001b[39m client\u001b[38;5;241m.\u001b[39mquery_batch(requests)\n",
      "File \u001b[1;32m~\\Anaconda3\\lib\\os.py:679\u001b[0m, in \u001b[0;36m_Environ.__getitem__\u001b[1;34m(self, key)\u001b[0m\n\u001b[0;32m    676\u001b[0m     value \u001b[38;5;241m=\u001b[39m \u001b[38;5;28mself\u001b[39m\u001b[38;5;241m.\u001b[39m_data[\u001b[38;5;28mself\u001b[39m\u001b[38;5;241m.\u001b[39mencodekey(key)]\n\u001b[0;32m    677\u001b[0m \u001b[38;5;28;01mexcept\u001b[39;00m \u001b[38;5;167;01mKeyError\u001b[39;00m:\n\u001b[0;32m    678\u001b[0m     \u001b[38;5;66;03m# raise KeyError with the original key value\u001b[39;00m\n\u001b[1;32m--> 679\u001b[0m     \u001b[38;5;28;01mraise\u001b[39;00m \u001b[38;5;167;01mKeyError\u001b[39;00m(key) \u001b[38;5;28;01mfrom\u001b[39;00m \u001b[38;5;28mNone\u001b[39m\n\u001b[0;32m    680\u001b[0m \u001b[38;5;28;01mreturn\u001b[39;00m \u001b[38;5;28mself\u001b[39m\u001b[38;5;241m.\u001b[39mdecodevalue(value)\n",
      "\u001b[1;31mKeyError\u001b[0m: 'LOGS_WORKSPACE_ID'"
     ]
    }
   ],
   "source": [
    "# Copyright (c) Microsoft Corporation. All rights reserved.\n",
    "# Licensed under the MIT License.\n",
    "\"\"\"\n",
    "FILE: sample_batch_query.py\n",
    "DESCRIPTION:\n",
    "    This sample demonstrates querying multiple queries in a batch.\n",
    "USAGE:\n",
    "    python sample_batch_query.py\n",
    "    Set the environment variables with your own values before running the sample:\n",
    "    1) LOGS_WORKSPACE_ID - The The first (primary) workspace ID.\n",
    "\n",
    "This example uses DefaultAzureCredential, which requests a token from Azure Active Directory.\n",
    "For more information on DefaultAzureCredential, see https://learn.microsoft.com/python/api/overview/azure/identity-readme?view=azure-python#defaultazurecredential.\n",
    "\n",
    "**Note** - Although this example uses pandas to print the response, it's optional and\n",
    "isn't a required package for querying. Alternatively, native Python can be used as well.\n",
    "\"\"\"\n",
    "# [START send_query_batch]\n",
    "from datetime import datetime, timedelta, timezone\n",
    "import os\n",
    "\n",
    "from azure.core.exceptions import HttpResponseError\n",
    "from azure.identity import DefaultAzureCredential\n",
    "from azure.monitor.query import LogsQueryClient, LogsBatchQuery, LogsQueryStatus\n",
    "import pandas as pd\n",
    "\n",
    "\n",
    "credential = DefaultAzureCredential()\n",
    "client = LogsQueryClient(credential)\n",
    "\n",
    "requests = [\n",
    "    LogsBatchQuery(\n",
    "        query=\"AzureActivity | summarize count()\",\n",
    "        timespan=timedelta(hours=1),\n",
    "        workspace_id=os.environ[\"LOGS_WORKSPACE_ID\"],\n",
    "    ),\n",
    "    LogsBatchQuery(query=\"bad query\", timespan=timedelta(days=1), workspace_id=os.environ[\"LOGS_WORKSPACE_ID\"]),\n",
    "    LogsBatchQuery(\n",
    "        query=\"\"\"let Weight = 92233720368547758;\n",
    "        range x from 1 to 3 step 1\n",
    "        | summarize percentilesw(x, Weight * 100, 50)\"\"\",\n",
    "        workspace_id=os.environ[\"LOGS_WORKSPACE_ID\"],\n",
    "        timespan=(datetime(2021, 6, 2, tzinfo=timezone.utc), datetime(2021, 6, 5, tzinfo=timezone.utc)),  # (start, end)\n",
    "        include_statistics=True,\n",
    "    ),\n",
    "]\n",
    "\n",
    "try:\n",
    "    results = client.query_batch(requests)\n",
    "\n",
    "    for res in results:\n",
    "        if res.status == LogsQueryStatus.FAILURE:\n",
    "            # This will be a LogsQueryError\n",
    "            print(res)\n",
    "        elif res.status == LogsQueryStatus.PARTIAL:\n",
    "            # This will be a LogsQueryPartialResult\n",
    "            print(res.partial_error)\n",
    "            for table in res.partial_data:\n",
    "                df = pd.DataFrame(table.rows, columns=table.columns)\n",
    "                print(df)\n",
    "        elif res.status == LogsQueryStatus.SUCCESS:\n",
    "            # This will be a LogsQueryResult\n",
    "            table = res.tables[0]\n",
    "            df = pd.DataFrame(table.rows, columns=table.columns)\n",
    "            print(df)\n",
    "except HttpResponseError as err:\n",
    "    print(\"something fatal happened\")\n",
    "    print(err)\n",
    "# [END send_query_batch]"
   ]
  },
  {
   "cell_type": "code",
   "execution_count": null,
   "id": "b5d9c7df",
   "metadata": {},
   "outputs": [],
   "source": []
  },
  {
   "cell_type": "code",
   "execution_count": null,
   "id": "909dd619",
   "metadata": {},
   "outputs": [],
   "source": []
  },
  {
   "cell_type": "code",
   "execution_count": null,
   "id": "881c60c0",
   "metadata": {},
   "outputs": [],
   "source": []
  }
 ],
 "metadata": {
  "kernelspec": {
   "display_name": "Python 3.9.12 ('base')",
   "language": "python",
   "name": "python3"
  },
  "language_info": {
   "codemirror_mode": {
    "name": "ipython",
    "version": 3
   },
   "file_extension": ".py",
   "mimetype": "text/x-python",
   "name": "python",
   "nbconvert_exporter": "python",
   "pygments_lexer": "ipython3",
   "version": "3.9.12"
  },
  "vscode": {
   "interpreter": {
    "hash": "bee1b01adc972549c89175bcfc5689567de629a479c2c0f9bd220320c0c9a02d"
   }
  }
 },
 "nbformat": 4,
 "nbformat_minor": 5
}
